{
  "nbformat": 4,
  "nbformat_minor": 0,
  "metadata": {
    "colab": {
      "name": "Untitled27.ipynb",
      "provenance": []
    },
    "kernelspec": {
      "name": "python3",
      "display_name": "Python 3"
    }
  },
  "cells": [
    {
      "cell_type": "code",
      "metadata": {
        "id": "RoxMwllAeV9v",
        "colab_type": "code",
        "colab": {}
      },
      "source": [
        "import pandas as pd\n",
        "import numpy as np\n",
        "\n",
        "import seaborn as sns\n",
        "import matplotlib.pyplot as plt\n",
        "import matplotlib.dates as mdates\n",
        "%matplotlib inline\n",
        "\n",
        "import datetime\n",
        "\n",
        "import statsmodels.tsa.api as smt\n",
        "from xgboost import XGBRegressor\n",
        "from statsmodels.tsa.stattools import adfuller"
      ],
      "execution_count": 397,
      "outputs": []
    },
    {
      "cell_type": "code",
      "metadata": {
        "id": "w8Ur53hJ65MO",
        "colab_type": "code",
        "colab": {
          "base_uri": "https://localhost:8080/",
          "height": 359
        },
        "outputId": "e34380ed-37c4-4417-9c88-b52756461528"
      },
      "source": [
        "#Загрузим данные \n",
        "sales = pd.read_csv('/content/drive/My Drive/sql_.csv')\n",
        "sales.head(10)"
      ],
      "execution_count": 484,
      "outputs": [
        {
          "output_type": "execute_result",
          "data": {
            "text/html": [
              "<div>\n",
              "<style scoped>\n",
              "    .dataframe tbody tr th:only-of-type {\n",
              "        vertical-align: middle;\n",
              "    }\n",
              "\n",
              "    .dataframe tbody tr th {\n",
              "        vertical-align: top;\n",
              "    }\n",
              "\n",
              "    .dataframe thead th {\n",
              "        text-align: right;\n",
              "    }\n",
              "</style>\n",
              "<table border=\"1\" class=\"dataframe\">\n",
              "  <thead>\n",
              "    <tr style=\"text-align: right;\">\n",
              "      <th></th>\n",
              "      <th>ID_SKU</th>\n",
              "      <th>Week_ID</th>\n",
              "      <th>SKU_QTY</th>\n",
              "      <th>AVG_Discount</th>\n",
              "      <th>Checks_QTY</th>\n",
              "      <th>Stores_QTY</th>\n",
              "      <th>AVG_SKU_cost</th>\n",
              "      <th>Total_Cost</th>\n",
              "    </tr>\n",
              "  </thead>\n",
              "  <tbody>\n",
              "    <tr>\n",
              "      <th>0</th>\n",
              "      <td>1</td>\n",
              "      <td>1</td>\n",
              "      <td>46747</td>\n",
              "      <td>0.000</td>\n",
              "      <td>12329</td>\n",
              "      <td>1663</td>\n",
              "      <td>156.9</td>\n",
              "      <td>13973925</td>\n",
              "    </tr>\n",
              "    <tr>\n",
              "      <th>1</th>\n",
              "      <td>1</td>\n",
              "      <td>2</td>\n",
              "      <td>43723</td>\n",
              "      <td>0.002</td>\n",
              "      <td>13026</td>\n",
              "      <td>1675</td>\n",
              "      <td>154.4</td>\n",
              "      <td>11239438</td>\n",
              "    </tr>\n",
              "    <tr>\n",
              "      <th>2</th>\n",
              "      <td>1</td>\n",
              "      <td>3</td>\n",
              "      <td>24285</td>\n",
              "      <td>0.002</td>\n",
              "      <td>7621</td>\n",
              "      <td>1475</td>\n",
              "      <td>154.8</td>\n",
              "      <td>6030625</td>\n",
              "    </tr>\n",
              "    <tr>\n",
              "      <th>3</th>\n",
              "      <td>1</td>\n",
              "      <td>4</td>\n",
              "      <td>76876</td>\n",
              "      <td>0.000</td>\n",
              "      <td>22606</td>\n",
              "      <td>1726</td>\n",
              "      <td>137.4</td>\n",
              "      <td>19071681</td>\n",
              "    </tr>\n",
              "    <tr>\n",
              "      <th>4</th>\n",
              "      <td>1</td>\n",
              "      <td>5</td>\n",
              "      <td>22371</td>\n",
              "      <td>0.001</td>\n",
              "      <td>7053</td>\n",
              "      <td>1513</td>\n",
              "      <td>148.3</td>\n",
              "      <td>5327759</td>\n",
              "    </tr>\n",
              "    <tr>\n",
              "      <th>5</th>\n",
              "      <td>1</td>\n",
              "      <td>6</td>\n",
              "      <td>26813</td>\n",
              "      <td>0.000</td>\n",
              "      <td>8743</td>\n",
              "      <td>1516</td>\n",
              "      <td>150.8</td>\n",
              "      <td>6690255</td>\n",
              "    </tr>\n",
              "    <tr>\n",
              "      <th>6</th>\n",
              "      <td>1</td>\n",
              "      <td>7</td>\n",
              "      <td>29162</td>\n",
              "      <td>0.000</td>\n",
              "      <td>9689</td>\n",
              "      <td>1558</td>\n",
              "      <td>147.0</td>\n",
              "      <td>7087620</td>\n",
              "    </tr>\n",
              "    <tr>\n",
              "      <th>7</th>\n",
              "      <td>1</td>\n",
              "      <td>8</td>\n",
              "      <td>26672</td>\n",
              "      <td>0.000</td>\n",
              "      <td>8891</td>\n",
              "      <td>1516</td>\n",
              "      <td>146.1</td>\n",
              "      <td>6902807</td>\n",
              "    </tr>\n",
              "    <tr>\n",
              "      <th>8</th>\n",
              "      <td>1</td>\n",
              "      <td>9</td>\n",
              "      <td>28054</td>\n",
              "      <td>0.000</td>\n",
              "      <td>9429</td>\n",
              "      <td>1503</td>\n",
              "      <td>145.4</td>\n",
              "      <td>6572828</td>\n",
              "    </tr>\n",
              "    <tr>\n",
              "      <th>9</th>\n",
              "      <td>1</td>\n",
              "      <td>10</td>\n",
              "      <td>28620</td>\n",
              "      <td>0.000</td>\n",
              "      <td>9079</td>\n",
              "      <td>1522</td>\n",
              "      <td>154.7</td>\n",
              "      <td>7205341</td>\n",
              "    </tr>\n",
              "  </tbody>\n",
              "</table>\n",
              "</div>"
            ],
            "text/plain": [
              "   ID_SKU  Week_ID  SKU_QTY  ...  Stores_QTY  AVG_SKU_cost  Total_Cost\n",
              "0       1        1    46747  ...        1663         156.9    13973925\n",
              "1       1        2    43723  ...        1675         154.4    11239438\n",
              "2       1        3    24285  ...        1475         154.8     6030625\n",
              "3       1        4    76876  ...        1726         137.4    19071681\n",
              "4       1        5    22371  ...        1513         148.3     5327759\n",
              "5       1        6    26813  ...        1516         150.8     6690255\n",
              "6       1        7    29162  ...        1558         147.0     7087620\n",
              "7       1        8    26672  ...        1516         146.1     6902807\n",
              "8       1        9    28054  ...        1503         145.4     6572828\n",
              "9       1       10    28620  ...        1522         154.7     7205341\n",
              "\n",
              "[10 rows x 8 columns]"
            ]
          },
          "metadata": {
            "tags": []
          },
          "execution_count": 484
        }
      ]
    },
    {
      "cell_type": "code",
      "metadata": {
        "id": "Kgwnsqxq7PCv",
        "colab_type": "code",
        "colab": {
          "base_uri": "https://localhost:8080/",
          "height": 350
        },
        "outputId": "eecd402a-06d1-47ac-8d9d-16989a8d8c99"
      },
      "source": [
        "#Визуализируем целевой показатель продаж\n",
        "def time_plot(data, x_col, y_col, title):\n",
        "    fig, ax = plt.subplots(figsize=(15,5))\n",
        "    sns.lineplot(x_col, y_col, data=data, ax=ax, label='Total Sales')\n",
        "    \n",
        "    #second = data.groupby(data.date.dt.year)[y_col].mean().reset_index()\n",
        "    #second.date = pd.to_datetime(second.date, format='%Y')\n",
        "    #sns.lineplot((second.date + datetime.timedelta(6*365/12)), y_col, data=second, ax=ax, color='red', label='Mean Sales')   \n",
        "    \n",
        "    ax.set(xlabel = \"Date\",\n",
        "           ylabel = \"Sales\",\n",
        "           title = title)\n",
        "    \n",
        "    sns.despine()\n",
        "time_plot(sales, 'Week_ID', 'Total_Cost','Week Sales')"
      ],
      "execution_count": 509,
      "outputs": [
        {
          "output_type": "display_data",
          "data": {
            "image/png": "[encoded data removed]",
            "text/plain": [
              "<Figure size 1080x360 with 1 Axes>"
            ]
          },
          "metadata": {
            "tags": [],
            "needs_background": "light"
          }
        }
      ]
    },
    {
      "cell_type": "code",
      "metadata": {
        "id": "0M17G2727P85",
        "colab_type": "code",
        "colab": {
          "base_uri": "https://localhost:8080/",
          "height": 170
        },
        "outputId": "8a9edf42-54a8-4362-df6f-5bd3eddd91e7"
      },
      "source": [
        "#Проверим временной ряд на стационарность с помощью теста Дики - Фулера\n",
        "def adf_test(ts, signif=0.05):\n",
        "    dftest = adfuller(ts, autolag='AIC')\n",
        "    adf = pd.Series(dftest[0:4], index=['Test Statistic','p-value','# Lags','# Observations'])\n",
        "    for key,value in dftest[4].items():\n",
        "       adf['Critical Value (%s)'%key] = value\n",
        "    print (adf)\n",
        "    p = adf['p-value']   \n",
        "    if p <= signif:\n",
        "      print(f\" Series is Stationary\")\n",
        "    else:\n",
        "        print(f\" Series is Non-Stationary\")\n",
        "        \n",
        "adf_test(sales['Total_Cost']) #Ряд стационарен, поэтому данные можно использовать для обучения модели\n"
      ],
      "execution_count": 510,
      "outputs": [
        {
          "output_type": "stream",
          "text": [
            "Test Statistic           -2.863553\n",
            "p-value                   0.049753\n",
            "# Lags                    6.000000\n",
            "# Observations          152.000000\n",
            "Critical Value (1%)      -3.474121\n",
            "Critical Value (5%)      -2.880750\n",
            "Critical Value (10%)     -2.577013\n",
            "dtype: float64\n",
            " Series is Stationary\n"
          ],
          "name": "stdout"
        }
      ]
    },
    {
      "cell_type": "code",
      "metadata": {
        "id": "v6MNb-smChix",
        "colab_type": "code",
        "colab": {
          "base_uri": "https://localhost:8080/",
          "height": 363
        },
        "outputId": "0d522c2e-ef99-494e-a93b-ac0348ee154f"
      },
      "source": [
        "fig, ax = plt.subplots(figsize=(15,5))\n",
        "sns.distplot(sales['Total_Cost'],ax=ax)\n",
        "\n"
      ],
      "execution_count": 516,
      "outputs": [
        {
          "output_type": "execute_result",
          "data": {
            "text/plain": [
              "<matplotlib.axes._subplots.AxesSubplot at 0x7f9c9bfc6f60>"
            ]
          },
          "metadata": {
            "tags": []
          },
          "execution_count": 516
        },
        {
          "output_type": "display_data",
          "data": {
            "image/png": "[encoded data removed]",
            "text/plain": [
              "<Figure size 1080x360 with 1 Axes>"
            ]
          },
          "metadata": {
            "tags": [],
            "needs_background": "light"
          }
        }
      ]
    },
    {
      "cell_type": "code",
      "metadata": {
        "id": "AkfK5pffoU5c",
        "colab_type": "code",
        "colab": {}
      },
      "source": [
        "from sklearn.preprocessing import StandardScaler\n",
        "from statsmodels.tsa.stattools import pacf\n",
        "#Поскольку проводится анализ временного ряда, создадим дополнительные предикторы из ретроспективных данных. \n",
        "#Применим функцию частичной автокорреляции для того, чтобы понять, какие данные подходят больше всего\n",
        "def create_lag_features(y,col):\n",
        "   \n",
        "    scaler = StandardScaler()\n",
        "    features = pd.DataFrame()\n",
        "    \n",
        "    partial = pd.Series(data=pacf(y, nlags=7))\n",
        "    lags = list(partial[np.abs(partial) >= 0.2].index)\n",
        "    \n",
        "    df = pd.DataFrame()\n",
        "    \n",
        "    # avoid to insert the time series itself\n",
        "    lags.remove(0)\n",
        "    \n",
        "    for l in lags:\n",
        "        df[f\"lag_{l}\"+'_'+col] = y.shift(l)\n",
        "    \n",
        "    features = pd.DataFrame(df[df.columns],\n",
        "                            columns=df.columns)\n",
        "    features.index = y.index\n",
        "    \n",
        "    return features"
      ],
      "execution_count": 405,
      "outputs": []
    },
    {
      "cell_type": "code",
      "metadata": {
        "id": "GNreYPlkqqqH",
        "colab_type": "code",
        "colab": {
          "base_uri": "https://localhost:8080/",
          "height": 379
        },
        "outputId": "3ee09f0e-47a9-404b-ac9f-6fbcdab88fd7"
      },
      "source": [
        "#Построим датасеты по каждому товару с и внесем в них данные из прошлого, чтобы получить возможность использовать модель\n",
        "lag_df = sales\n",
        "\n",
        "features = create_lag_features(stationary_df['Total_Cost'],'Total_Cost')\n",
        "lag_df = lag_df.join(features)\n",
        "#Сдвигаем показатели \"Количество товара\", \"Средняя стоимость товара\" и \"и \"Количество магазинов\" на один шаг вперед, \n",
        "#так как мы не можем их использовать для предсказания текущего объема продаж\n",
        "SKU_1 = lag_df.loc[lag_df['ID_SKU']==1].drop('ID_SKU',axis=1)\n",
        "SKU_1[['SKU_QTY','Checks_QTY','Stores_QTY']]=SKU_1[['SKU_QTY','Checks_QTY','Stores_QTY']].shift(1)\n",
        "SKU_1 = SKU_1.dropna()\n",
        "SKU_2 = lag_df.loc[lag_df['ID_SKU']==2536564].drop('ID_SKU',axis=1)\n",
        "SKU_2[['SKU_QTY','Checks_QTY','Stores_QTY']]=SKU_2[['SKU_QTY','Checks_QTY','Stores_QTY']].shift(1)\n",
        "SKU_2 = SKU_2.dropna()\n",
        "SKU_3 = lag_df.loc[lag_df['ID_SKU']==951398].drop('ID_SKU',axis=1)\n",
        "SKU_3[['SKU_QTY','Checks_QTY','Stores_QTY']]=SKU_3[['SKU_QTY','Checks_QTY','Stores_QTY']].shift(1)\n",
        "SKU_3 = SKU_3.dropna()\n",
        "SKU_1.head(10)"
      ],
      "execution_count": 519,
      "outputs": [
        {
          "output_type": "execute_result",
          "data": {
            "text/html": [
              "<div>\n",
              "<style scoped>\n",
              "    .dataframe tbody tr th:only-of-type {\n",
              "        vertical-align: middle;\n",
              "    }\n",
              "\n",
              "    .dataframe tbody tr th {\n",
              "        vertical-align: top;\n",
              "    }\n",
              "\n",
              "    .dataframe thead th {\n",
              "        text-align: right;\n",
              "    }\n",
              "</style>\n",
              "<table border=\"1\" class=\"dataframe\">\n",
              "  <thead>\n",
              "    <tr style=\"text-align: right;\">\n",
              "      <th></th>\n",
              "      <th>Week_ID</th>\n",
              "      <th>SKU_QTY</th>\n",
              "      <th>AVG_Discount</th>\n",
              "      <th>Checks_QTY</th>\n",
              "      <th>Stores_QTY</th>\n",
              "      <th>AVG_SKU_cost</th>\n",
              "      <th>Total_Cost</th>\n",
              "      <th>lag_1_Total_Cost</th>\n",
              "      <th>lag_2_Total_Cost</th>\n",
              "      <th>lag_3_Total_Cost</th>\n",
              "      <th>lag_4_Total_Cost</th>\n",
              "      <th>lag_5_Total_Cost</th>\n",
              "      <th>lag_6_Total_Cost</th>\n",
              "      <th>lag_7_Total_Cost</th>\n",
              "    </tr>\n",
              "  </thead>\n",
              "  <tbody>\n",
              "    <tr>\n",
              "      <th>7</th>\n",
              "      <td>8</td>\n",
              "      <td>29162.0</td>\n",
              "      <td>0.0</td>\n",
              "      <td>9689.0</td>\n",
              "      <td>1558.0</td>\n",
              "      <td>146.1</td>\n",
              "      <td>6902807</td>\n",
              "      <td>7087620.0</td>\n",
              "      <td>6690255.0</td>\n",
              "      <td>5327759.0</td>\n",
              "      <td>19071681.0</td>\n",
              "      <td>6030625.0</td>\n",
              "      <td>11239438.0</td>\n",
              "      <td>13973925.0</td>\n",
              "    </tr>\n",
              "    <tr>\n",
              "      <th>8</th>\n",
              "      <td>9</td>\n",
              "      <td>26672.0</td>\n",
              "      <td>0.0</td>\n",
              "      <td>8891.0</td>\n",
              "      <td>1516.0</td>\n",
              "      <td>145.4</td>\n",
              "      <td>6572828</td>\n",
              "      <td>6902807.0</td>\n",
              "      <td>7087620.0</td>\n",
              "      <td>6690255.0</td>\n",
              "      <td>5327759.0</td>\n",
              "      <td>19071681.0</td>\n",
              "      <td>6030625.0</td>\n",
              "      <td>11239438.0</td>\n",
              "    </tr>\n",
              "    <tr>\n",
              "      <th>9</th>\n",
              "      <td>10</td>\n",
              "      <td>28054.0</td>\n",
              "      <td>0.0</td>\n",
              "      <td>9429.0</td>\n",
              "      <td>1503.0</td>\n",
              "      <td>154.7</td>\n",
              "      <td>7205341</td>\n",
              "      <td>6572828.0</td>\n",
              "      <td>6902807.0</td>\n",
              "      <td>7087620.0</td>\n",
              "      <td>6690255.0</td>\n",
              "      <td>5327759.0</td>\n",
              "      <td>19071681.0</td>\n",
              "      <td>6030625.0</td>\n",
              "    </tr>\n",
              "    <tr>\n",
              "      <th>10</th>\n",
              "      <td>11</td>\n",
              "      <td>28620.0</td>\n",
              "      <td>0.0</td>\n",
              "      <td>9079.0</td>\n",
              "      <td>1522.0</td>\n",
              "      <td>132.8</td>\n",
              "      <td>25378095</td>\n",
              "      <td>7205341.0</td>\n",
              "      <td>6572828.0</td>\n",
              "      <td>6902807.0</td>\n",
              "      <td>7087620.0</td>\n",
              "      <td>6690255.0</td>\n",
              "      <td>5327759.0</td>\n",
              "      <td>19071681.0</td>\n",
              "    </tr>\n",
              "    <tr>\n",
              "      <th>11</th>\n",
              "      <td>12</td>\n",
              "      <td>98094.0</td>\n",
              "      <td>0.0</td>\n",
              "      <td>29814.0</td>\n",
              "      <td>1728.0</td>\n",
              "      <td>142.5</td>\n",
              "      <td>8759655</td>\n",
              "      <td>25378095.0</td>\n",
              "      <td>7205341.0</td>\n",
              "      <td>6572828.0</td>\n",
              "      <td>6902807.0</td>\n",
              "      <td>7087620.0</td>\n",
              "      <td>6690255.0</td>\n",
              "      <td>5327759.0</td>\n",
              "    </tr>\n",
              "    <tr>\n",
              "      <th>12</th>\n",
              "      <td>13</td>\n",
              "      <td>36643.0</td>\n",
              "      <td>0.0</td>\n",
              "      <td>11777.0</td>\n",
              "      <td>1625.0</td>\n",
              "      <td>141.3</td>\n",
              "      <td>7062437</td>\n",
              "      <td>8759655.0</td>\n",
              "      <td>25378095.0</td>\n",
              "      <td>7205341.0</td>\n",
              "      <td>6572828.0</td>\n",
              "      <td>6902807.0</td>\n",
              "      <td>7087620.0</td>\n",
              "      <td>6690255.0</td>\n",
              "    </tr>\n",
              "    <tr>\n",
              "      <th>13</th>\n",
              "      <td>14</td>\n",
              "      <td>30374.0</td>\n",
              "      <td>0.0</td>\n",
              "      <td>10306.0</td>\n",
              "      <td>1579.0</td>\n",
              "      <td>140.6</td>\n",
              "      <td>6076140</td>\n",
              "      <td>7062437.0</td>\n",
              "      <td>8759655.0</td>\n",
              "      <td>25378095.0</td>\n",
              "      <td>7205341.0</td>\n",
              "      <td>6572828.0</td>\n",
              "      <td>6902807.0</td>\n",
              "      <td>7087620.0</td>\n",
              "    </tr>\n",
              "    <tr>\n",
              "      <th>14</th>\n",
              "      <td>15</td>\n",
              "      <td>26155.0</td>\n",
              "      <td>0.0</td>\n",
              "      <td>8890.0</td>\n",
              "      <td>1507.0</td>\n",
              "      <td>147.1</td>\n",
              "      <td>6916585</td>\n",
              "      <td>6076140.0</td>\n",
              "      <td>7062437.0</td>\n",
              "      <td>8759655.0</td>\n",
              "      <td>25378095.0</td>\n",
              "      <td>7205341.0</td>\n",
              "      <td>6572828.0</td>\n",
              "      <td>6902807.0</td>\n",
              "    </tr>\n",
              "    <tr>\n",
              "      <th>15</th>\n",
              "      <td>16</td>\n",
              "      <td>28117.0</td>\n",
              "      <td>0.0</td>\n",
              "      <td>9299.0</td>\n",
              "      <td>1567.0</td>\n",
              "      <td>139.3</td>\n",
              "      <td>8600235</td>\n",
              "      <td>6916585.0</td>\n",
              "      <td>6076140.0</td>\n",
              "      <td>7062437.0</td>\n",
              "      <td>8759655.0</td>\n",
              "      <td>25378095.0</td>\n",
              "      <td>7205341.0</td>\n",
              "      <td>6572828.0</td>\n",
              "    </tr>\n",
              "    <tr>\n",
              "      <th>16</th>\n",
              "      <td>17</td>\n",
              "      <td>37525.0</td>\n",
              "      <td>0.0</td>\n",
              "      <td>12735.0</td>\n",
              "      <td>1612.0</td>\n",
              "      <td>139.1</td>\n",
              "      <td>9268914</td>\n",
              "      <td>8600235.0</td>\n",
              "      <td>6916585.0</td>\n",
              "      <td>6076140.0</td>\n",
              "      <td>7062437.0</td>\n",
              "      <td>8759655.0</td>\n",
              "      <td>25378095.0</td>\n",
              "      <td>7205341.0</td>\n",
              "    </tr>\n",
              "  </tbody>\n",
              "</table>\n",
              "</div>"
            ],
            "text/plain": [
              "    Week_ID  SKU_QTY  ...  lag_6_Total_Cost  lag_7_Total_Cost\n",
              "7         8  29162.0  ...        11239438.0        13973925.0\n",
              "8         9  26672.0  ...         6030625.0        11239438.0\n",
              "9        10  28054.0  ...        19071681.0         6030625.0\n",
              "10       11  28620.0  ...         5327759.0        19071681.0\n",
              "11       12  98094.0  ...         6690255.0         5327759.0\n",
              "12       13  36643.0  ...         7087620.0         6690255.0\n",
              "13       14  30374.0  ...         6902807.0         7087620.0\n",
              "14       15  26155.0  ...         6572828.0         6902807.0\n",
              "15       16  28117.0  ...         7205341.0         6572828.0\n",
              "16       17  37525.0  ...        25378095.0         7205341.0\n",
              "\n",
              "[10 rows x 14 columns]"
            ]
          },
          "metadata": {
            "tags": []
          },
          "execution_count": 519
        }
      ]
    },
    {
      "cell_type": "code",
      "metadata": {
        "id": "32767hxgK4Xa",
        "colab_type": "code",
        "colab": {}
      },
      "source": [
        "#Сформируем по каждому товару тренировочный и тестовый датасеты\n",
        "SKU_1_train_X, SKU_1_train_y, SKU_1_test_X, SKU_1_test_y = SKU_1[:-10].drop('Total_Cost',axis=1),SKU_1['Total_Cost'][:-10], SKU_1[-10:].drop('Total_Cost',axis=1), SKU_1['Total_Cost'][-10:]\n",
        "SKU_2_train_X, SKU_2_train_y, SKU_2_test_X, SKU_2_test_y = SKU_2[:-10].drop('Total_Cost',axis=1), SKU_2['Total_Cost'][:-10], SKU_2[-10:].drop('Total_Cost',axis=1), SKU_2['Total_Cost'][-10:]\n",
        "SKU_3_train_X, SKU_3_train_y, SKU_3_test_X, SKU_3_test_y = SKU_3[:-10].drop('Total_Cost',axis=1), SKU_3['Total_Cost'][:-10], SKU_3[-10:].drop('Total_Cost',axis=1), SKU_3['Total_Cost'][-10:]\n"
      ],
      "execution_count": null,
      "outputs": []
    },
    {
      "cell_type": "code",
      "metadata": {
        "id": "PEAhWT27RhVv",
        "colab_type": "code",
        "colab": {}
      },
      "source": [
        "#Реализуем функцию для расчета MAPE, который понадобится нам для оценки результатов\n",
        "def get_mape(y_true, y_pred): \n",
        "    \"\"\"\n",
        "    Compute mean absolute percentage error (MAPE)\n",
        "    \"\"\"\n",
        "    y_true, y_pred = np.array(y_true), np.array(y_pred)\n",
        "    return 1 - np.sum(np.abs(y_true - y_pred) / np.sum(y_true)) "
      ],
      "execution_count": null,
      "outputs": []
    },
    {
      "cell_type": "code",
      "metadata": {
        "id": "gmOGX5EKTLW6",
        "colab_type": "code",
        "colab": {
          "base_uri": "https://localhost:8080/",
          "height": 119
        },
        "outputId": "9f7f0388-af8e-45d2-c036-690cd5bcc0d3"
      },
      "source": [
        "#Обучим модель и сделаем предсказания с помощью градиентного бустинга\n",
        "model = XGBRegressor(\n",
        "    max_depth=8,\n",
        "    n_estimators=500, \n",
        "    colsample_bytree=1, \n",
        "    subsample=1, \n",
        "    eta=0.3,    \n",
        "    seed=42)\n",
        "\n",
        "\n",
        "model.fit(SKU_1_train_X, SKU_1_train_y)\n",
        "pred_1 = model.predict(SKU_1_test_X)\n",
        "MAPE_1 = get_mape(SKU_1_test_y,pred_1)\n",
        "model.fit(SKU_2_train_X, SKU_2_train_y)\n",
        "pred_2 = model.predict(SKU_2_test_X)\n",
        "MAPE_2 = get_mape(SKU_2_test_y,pred_2)\n",
        "model.fit(SKU_3_train_X, SKU_3_train_y)\n",
        "pred_3 = model.predict(SKU_3_test_X)\n",
        "MAPE_3 = get_mape(SKU_3_test_y,pred_3)\n",
        "print('MAPE of SKU_ID #1 = ', str(MAPE_1),\n",
        "      '\\nMAPE of SKU_ID #2536564 = ',str(MAPE_2),\n",
        "      '\\nMAPE of SKU_ID #951398 = ',str(MAPE_3))"
      ],
      "execution_count": 488,
      "outputs": [
        {
          "output_type": "stream",
          "text": [
            "[18:32:02] WARNING: /workspace/src/objective/regression_obj.cu:152: reg:linear is now deprecated in favor of reg:squarederror.\n",
            "[18:32:02] WARNING: /workspace/src/objective/regression_obj.cu:152: reg:linear is now deprecated in favor of reg:squarederror.\n",
            "[18:32:02] WARNING: /workspace/src/objective/regression_obj.cu:152: reg:linear is now deprecated in favor of reg:squarederror.\n",
            "MAPE of SKU_ID #1 =  0.24684891168680012 \n",
            "MAPE of SKU_ID #2536564 =  0.9007101965079253 \n",
            "MAPE of SKU_ID #951398 =  0.9016477270377643\n"
          ],
          "name": "stdout"
        }
      ]
    },
    {
      "cell_type": "code",
      "metadata": {
        "id": "SyzjYqoyTzIU",
        "colab_type": "code",
        "colab": {}
      },
      "source": [
        "#Соберем результат в единый датафрейм \n",
        "results = pd.concat([pd.DataFrame({'ID_SKU':1,'Week_ID':SKU_1_test_X['Week_ID'],'Forecast':pred_1, 'Fact':SKU_1_test_y}),\n",
        "          pd.DataFrame({'ID_SKU':2536564,'Week_ID':SKU_2_test_X['Week_ID'],'Forecast':pred_2, 'Fact':SKU_2_test_y}),\n",
        "          pd.DataFrame({'ID_SKU':951398,'Week_ID':SKU_3_test_X['Week_ID'],'Forecast':pred_3, 'Fact':SKU_3_test_y})])\n",
        "results['ABS Error'] = results['Forecast'] - results['Fact']\n",
        "results['Accuracy']  = results['Forecast']/results['Fact']\n",
        "results.to_excel('/content/results.xlsx')\n"
      ],
      "execution_count": 507,
      "outputs": []
    },
    {
      "cell_type": "code",
      "metadata": {
        "id": "8JWZ-zEmBdKq",
        "colab_type": "code",
        "colab": {}
      },
      "source": [
        "\n"
      ],
      "execution_count": null,
      "outputs": []
    }
  ]
}